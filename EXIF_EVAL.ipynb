{
 "cells": [
  {
   "cell_type": "code",
   "execution_count": 1,
   "metadata": {},
   "outputs": [],
   "source": [
    "import torch\n",
    "from PIL import Image\n",
    "import torchvision\n",
    "import torch.nn as nn\n",
    "from torchvision import transforms\n",
    "import torch.nn.functional as F\n",
    "from torch.utils.data import Dataset, DataLoader\n",
    "import numpy as np"
   ]
  },
  {
   "cell_type": "code",
   "execution_count": 2,
   "metadata": {},
   "outputs": [],
   "source": [
    "# two layer MLP to get the consistency score for each pair of patches\n",
    "class EVAL(nn.Module):\n",
    "    def __init__(self, exif_model, exif_dim, middle_dim):\n",
    "        super(EVAL, self).__init__()\n",
    "        self.exif_model = exif_model\n",
    "        self.layer1 = nn.Linear(exif_dim, middle_dim)\n",
    "        self.layer2 = nn.Linear(middle_dim, 1)\n",
    "\n",
    "    def forward(self, x1, x2):\n",
    "        x = self.exif_model(x1, x2)        \n",
    "        x = self.layer1(x)\n",
    "        x = F.ReLu(x)\n",
    "        x = self.layer2(x)\n",
    "        \n",
    "        return x"
   ]
  },
  {
   "cell_type": "code",
   "execution_count": 3,
   "metadata": {},
   "outputs": [],
   "source": [
    "# use number of different bit in mask to represent score\n",
    "def getConsistencyScore(p1, p2):\n",
    "    return sum(abs(p1-p2))"
   ]
  },
  {
   "cell_type": "code",
   "execution_count": 9,
   "metadata": {},
   "outputs": [],
   "source": [
    "# compare one patch with all other patches\n",
    "def evaluatePatch(p1, image, size, eval_model):\n",
    "    score = 0\n",
    "    height = image.shape[0]\n",
    "    width = image.shape[1]\n",
    "    for i in range(height // size):\n",
    "        for j in range(width // size):\n",
    "            x = size * i\n",
    "            y = size * j\n",
    "            xs = min(x + size, height)\n",
    "            ys = min(y + size, width)\n",
    "            p2 = image[x:xs, y:ys]\n",
    "            score += eval_model(p1, p2)\n",
    "            \n",
    "    return score"
   ]
  },
  {
   "cell_type": "code",
   "execution_count": 7,
   "metadata": {},
   "outputs": [],
   "source": [
    "# calculate consistency map\n",
    "def getConsistencyMap(image, size=20, eval_model):\n",
    "    consistency_map = []\n",
    "    height = image.shape[0]\n",
    "    width = image.shape[1]\n",
    "    for i in range(height // size):\n",
    "        row = []\n",
    "        for j in range(width // size):\n",
    "            x = size * i\n",
    "            y = size * j\n",
    "            xs = min(x + size, height)\n",
    "            ys = min(y + size, width)\n",
    "            p = image[x:xs, y:ys]\n",
    "            row.append(evaluatePatch(p, image, size, eval_model))\n",
    "        consistency_map.append(row)\n",
    "    return consistency_map"
   ]
  },
  {
   "cell_type": "code",
   "execution_count": 6,
   "metadata": {},
   "outputs": [],
   "source": [
    "# check whether an image has been sliced\n",
    "def ifSliced(consistency_map, threshold):\n",
    "    return sum(consistency_map) > threshold"
   ]
  },
  {
   "cell_type": "code",
   "execution_count": 12,
   "metadata": {},
   "outputs": [],
   "source": [
    "# Training\n",
    "import random\n",
    "\n",
    "def train(eval_model, size, loss_function):\n",
    "    loss = 0\n",
    "    counter = 0\n",
    "    for image, mask in train_dataloader:\n",
    "        optimizer.zero_grad()\n",
    "        height = image.shape[0]\n",
    "        width = image.shape[1]\n",
    "        # random pick two left top corner\n",
    "        x1 = random.randint(0, height-size)\n",
    "        y1 = random.randint(0, width-size)\n",
    "        p1 = image[x1:x1+size, y1:y1+size]\n",
    "        m1 = mask[x1:x1+size, y1:y1+size]\n",
    "        \n",
    "        x2 = random.randint(0, height-size)\n",
    "        y2 = random.randint(0, width-size)\n",
    "        p2 = image[x2:x2+size, y2:y2+size]\n",
    "        m2 = mask[x2:x2+size, y2:y2+size]\n",
    "        \n",
    "        output = eval_model(p1, p2) # evaluation model generates a consistency score of a pair of patch\n",
    "        \n",
    "        loss += loss_function(output, getConsistencyScore(m1, m2))\n",
    "        \n",
    "        loss.backward()\n",
    "        optimizer.step()\n",
    "        counter += 1\n",
    "    \n",
    "        \n",
    "exif_model = EXIF()\n",
    "exif_dim = 10\n",
    "middle_dim = 3\n",
    "size = 20\n",
    "\n",
    "eval_model = EVAL(exif_model, exif_dim, middle_dim)\n",
    "loss_function = nn.MSELoss(reduction='sum')\n",
    "\n",
    "train(eval_model, size, loss_function)\n",
    "    "
   ]
  },
  {
   "cell_type": "code",
   "execution_count": 13,
   "metadata": {},
   "outputs": [],
   "source": [
    "# Evaluating\n",
    "size = 20\n",
    "threshold = 100\n",
    "def evaluate(eval_model, image, size, threshold):\n",
    "    consistency_map = getConsistencyMap(image, size, eval_model)\n",
    "    if_sliced = ifSliced(consistency_map, threshold)\n",
    "    \n",
    "\n",
    "evaluate(eval_model, image, size, threshold)"
   ]
  },
  {
   "cell_type": "code",
   "execution_count": null,
   "metadata": {},
   "outputs": [],
   "source": []
  }
 ],
 "metadata": {
  "kernelspec": {
   "display_name": "Python 3",
   "language": "python",
   "name": "python3"
  },
  "language_info": {
   "codemirror_mode": {
    "name": "ipython",
    "version": 3
   },
   "file_extension": ".py",
   "mimetype": "text/x-python",
   "name": "python",
   "nbconvert_exporter": "python",
   "pygments_lexer": "ipython3",
   "version": "3.6.12"
  }
 },
 "nbformat": 4,
 "nbformat_minor": 4
}
